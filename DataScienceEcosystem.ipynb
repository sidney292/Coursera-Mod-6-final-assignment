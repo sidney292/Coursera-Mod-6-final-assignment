{
 "cells": [
  {
   "cell_type": "markdown",
   "id": "be8633e7",
   "metadata": {},
   "source": [
    "# Data Science Tools and Ecosystem"
   ]
  },
  {
   "cell_type": "markdown",
   "id": "865b794a",
   "metadata": {},
   "source": [
    "In this notebook, Data Science Tools and Ecosystems are summarized below."
   ]
  },
  {
   "cell_type": "markdown",
   "id": "ff204af1",
   "metadata": {},
   "source": [
    "**Objectives:**\n",
    "- List popular languages for Data Science\n",
    "- Introducion to R and R studio\n",
    "- Introduction to Git and Git Hub\n",
    "- Download and use of Jupyter Notebook\n",
    "- Creating visual data using ggplot2"
   ]
  },
  {
   "cell_type": "markdown",
   "id": "e78ea173",
   "metadata": {},
   "source": [
    "Some of the popular languages that Data Scientists use are:\n",
    "1. R\n",
    "2. C++\n",
    "3. SQL\n",
    "4. Python"
   ]
  },
  {
   "cell_type": "markdown",
   "id": "ebe70d94",
   "metadata": {},
   "source": [
    "Some of the commonly used libraries used by Data Scientists include:\n",
    "1. Numpy\n",
    "2. Pandas\n",
    "3. Matplotlib\n",
    "4. TensorFlow"
   ]
  },
  {
   "cell_type": "markdown",
   "id": "4da4bbd2",
   "metadata": {},
   "source": [
    "|Data Science Tools|\n",
    "---\n",
    "R Studio\n",
    "Python\n",
    "GitHub\n",
    "Hadoop\n"
   ]
  },
  {
   "cell_type": "markdown",
   "id": "4a3d4e23",
   "metadata": {},
   "source": [
    "### Below are a few examples of evaluating arithmic expressions in Python"
   ]
  },
  {
   "cell_type": "code",
   "execution_count": 1,
   "id": "acac94b0",
   "metadata": {},
   "outputs": [
    {
     "data": {
      "text/plain": [
       "4"
      ]
     },
     "execution_count": 1,
     "metadata": {},
     "output_type": "execute_result"
    }
   ],
   "source": [
    "2+2"
   ]
  },
  {
   "cell_type": "code",
   "execution_count": 2,
   "id": "8afd2b01",
   "metadata": {},
   "outputs": [
    {
     "data": {
      "text/plain": [
       "5.0"
      ]
     },
     "execution_count": 2,
     "metadata": {},
     "output_type": "execute_result"
    }
   ],
   "source": [
    "(5*2)/2"
   ]
  },
  {
   "cell_type": "code",
   "execution_count": 4,
   "id": "c7b61648",
   "metadata": {},
   "outputs": [
    {
     "data": {
      "text/plain": [
       "88"
      ]
     },
     "execution_count": 4,
     "metadata": {},
     "output_type": "execute_result"
    }
   ],
   "source": [
    "99-35+24"
   ]
  },
  {
   "cell_type": "code",
   "execution_count": 6,
   "id": "951462ab",
   "metadata": {},
   "outputs": [
    {
     "data": {
      "text/plain": [
       "17"
      ]
     },
     "execution_count": 6,
     "metadata": {},
     "output_type": "execute_result"
    }
   ],
   "source": [
    "#This is a simple arithmetic expression to multiply then add integers.\n",
    "(3*4)+5"
   ]
  },
  {
   "cell_type": "code",
   "execution_count": 20,
   "id": "c4804eb9",
   "metadata": {},
   "outputs": [
    {
     "name": "stdout",
     "output_type": "stream",
     "text": [
      "200\n",
      "3.3333333333333335\n"
     ]
    }
   ],
   "source": [
    "#This will convert minutes to hours\n",
    "\n",
    "minutes=int(input())\n",
    "hours=minutes/60\n",
    "print(hours)\n"
   ]
  },
  {
   "cell_type": "markdown",
   "id": "f6b7733f",
   "metadata": {},
   "source": [
    "## Author:\n",
    "Sidney Williams"
   ]
  }
 ],
 "metadata": {
  "kernelspec": {
   "display_name": "Python 3 (ipykernel)",
   "language": "python",
   "name": "python3"
  },
  "language_info": {
   "codemirror_mode": {
    "name": "ipython",
    "version": 3
   },
   "file_extension": ".py",
   "mimetype": "text/x-python",
   "name": "python",
   "nbconvert_exporter": "python",
   "pygments_lexer": "ipython3",
   "version": "3.9.13"
  }
 },
 "nbformat": 4,
 "nbformat_minor": 5
}
